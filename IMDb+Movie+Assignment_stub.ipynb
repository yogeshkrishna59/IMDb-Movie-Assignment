{
 "cells": [
  {
   "cell_type": "code",
   "execution_count": 22,
   "metadata": {},
   "outputs": [],
   "source": [
    "# Filtering out the warnings\n",
    "\n",
    "import warnings\n",
    "\n",
    "warnings.filterwarnings('ignore')"
   ]
  },
  {
   "cell_type": "code",
   "execution_count": 23,
   "metadata": {},
   "outputs": [],
   "source": [
    "# Importing the required libraries\n",
    "\n",
    "import numpy as np\n",
    "import pandas as pd\n",
    "import seaborn as sns\n",
    "import matplotlib.pyplot as plt\n"
   ]
  },
  {
   "cell_type": "markdown",
   "metadata": {},
   "source": [
    "# <font color = blue> IMDb Movie Assignment </font>\n",
    "\n",
    "You have the data for the 100 top-rated movies from the past decade along with various pieces of information about the movie, its actors, and the voters who have rated these movies online. In this assignment, you will try to find some interesting insights into these movies and their voters, using Python."
   ]
  },
  {
   "cell_type": "markdown",
   "metadata": {},
   "source": [
    "##  Task 1: Reading the data"
   ]
  },
  {
   "cell_type": "markdown",
   "metadata": {},
   "source": [
    "- ### Subtask 1.1: Read the Movies Data.\n",
    "\n",
    "Read the movies data file provided and store it in a dataframe `movies`."
   ]
  },
  {
   "cell_type": "code",
   "execution_count": 24,
   "metadata": {},
   "outputs": [],
   "source": [
    "# Read the csv file using 'read_csv'. Please write your dataset location here.\n",
    "movies=pd.read_csv('Movie+Assignment+Data.csv')"
   ]
  },
  {
   "cell_type": "markdown",
   "metadata": {},
   "source": [
    "- ###  Subtask 1.2: Inspect the Dataframe\n",
    "\n",
    "Inspect the dataframe for dimensions, null-values, and summary of different numeric columns."
   ]
  },
  {
   "cell_type": "code",
   "execution_count": 25,
   "metadata": {},
   "outputs": [
    {
     "data": {
      "text/plain": [
       "(100, 62)"
      ]
     },
     "execution_count": 25,
     "metadata": {},
     "output_type": "execute_result"
    }
   ],
   "source": [
    "# Check the number of rows and columns in the dataframe\n",
    "movies.shape\n"
   ]
  },
  {
   "cell_type": "code",
   "execution_count": 26,
   "metadata": {},
   "outputs": [
    {
     "name": "stdout",
     "output_type": "stream",
     "text": [
      "<class 'pandas.core.frame.DataFrame'>\n",
      "RangeIndex: 100 entries, 0 to 99\n",
      "Data columns (total 62 columns):\n",
      " #   Column                  Non-Null Count  Dtype  \n",
      "---  ------                  --------------  -----  \n",
      " 0   Title                   100 non-null    object \n",
      " 1   title_year              100 non-null    int64  \n",
      " 2   budget                  100 non-null    int64  \n",
      " 3   Gross                   100 non-null    int64  \n",
      " 4   actor_1_name            100 non-null    object \n",
      " 5   actor_2_name            100 non-null    object \n",
      " 6   actor_3_name            100 non-null    object \n",
      " 7   actor_1_facebook_likes  100 non-null    int64  \n",
      " 8   actor_2_facebook_likes  99 non-null     float64\n",
      " 9   actor_3_facebook_likes  98 non-null     float64\n",
      " 10  IMDb_rating             100 non-null    float64\n",
      " 11  genre_1                 100 non-null    object \n",
      " 12  genre_2                 97 non-null     object \n",
      " 13  genre_3                 74 non-null     object \n",
      " 14  MetaCritic              95 non-null     float64\n",
      " 15  Runtime                 100 non-null    int64  \n",
      " 16  CVotes10                100 non-null    int64  \n",
      " 17  CVotes09                100 non-null    int64  \n",
      " 18  CVotes08                100 non-null    int64  \n",
      " 19  CVotes07                100 non-null    int64  \n",
      " 20  CVotes06                100 non-null    int64  \n",
      " 21  CVotes05                100 non-null    int64  \n",
      " 22  CVotes04                100 non-null    int64  \n",
      " 23  CVotes03                100 non-null    int64  \n",
      " 24  CVotes02                100 non-null    int64  \n",
      " 25  CVotes01                100 non-null    int64  \n",
      " 26  CVotesMale              100 non-null    int64  \n",
      " 27  CVotesFemale            100 non-null    int64  \n",
      " 28  CVotesU18               100 non-null    int64  \n",
      " 29  CVotesU18M              100 non-null    int64  \n",
      " 30  CVotesU18F              100 non-null    int64  \n",
      " 31  CVotes1829              100 non-null    int64  \n",
      " 32  CVotes1829M             100 non-null    int64  \n",
      " 33  CVotes1829F             100 non-null    int64  \n",
      " 34  CVotes3044              100 non-null    int64  \n",
      " 35  CVotes3044M             100 non-null    int64  \n",
      " 36  CVotes3044F             100 non-null    int64  \n",
      " 37  CVotes45A               100 non-null    int64  \n",
      " 38  CVotes45AM              100 non-null    int64  \n",
      " 39  CVotes45AF              100 non-null    int64  \n",
      " 40  CVotes1000              100 non-null    int64  \n",
      " 41  CVotesUS                100 non-null    int64  \n",
      " 42  CVotesnUS               100 non-null    int64  \n",
      " 43  VotesM                  100 non-null    float64\n",
      " 44  VotesF                  100 non-null    float64\n",
      " 45  VotesU18                100 non-null    float64\n",
      " 46  VotesU18M               100 non-null    float64\n",
      " 47  VotesU18F               100 non-null    float64\n",
      " 48  Votes1829               100 non-null    float64\n",
      " 49  Votes1829M              100 non-null    float64\n",
      " 50  Votes1829F              100 non-null    float64\n",
      " 51  Votes3044               100 non-null    float64\n",
      " 52  Votes3044M              100 non-null    float64\n",
      " 53  Votes3044F              100 non-null    float64\n",
      " 54  Votes45A                100 non-null    float64\n",
      " 55  Votes45AM               100 non-null    float64\n",
      " 56  Votes45AF               100 non-null    float64\n",
      " 57  Votes1000               100 non-null    float64\n",
      " 58  VotesUS                 100 non-null    float64\n",
      " 59  VotesnUS                100 non-null    float64\n",
      " 60  content_rating          100 non-null    object \n",
      " 61  Country                 100 non-null    object \n",
      "dtypes: float64(21), int64(32), object(9)\n",
      "memory usage: 48.6+ KB\n"
     ]
    }
   ],
   "source": [
    "# Check the column-wise info of the dataframe\n",
    "movies.info()\n"
   ]
  },
  {
   "cell_type": "code",
   "execution_count": 27,
   "metadata": {},
   "outputs": [
    {
     "data": {
      "text/html": [
       "<div>\n",
       "<style scoped>\n",
       "    .dataframe tbody tr th:only-of-type {\n",
       "        vertical-align: middle;\n",
       "    }\n",
       "\n",
       "    .dataframe tbody tr th {\n",
       "        vertical-align: top;\n",
       "    }\n",
       "\n",
       "    .dataframe thead th {\n",
       "        text-align: right;\n",
       "    }\n",
       "</style>\n",
       "<table border=\"1\" class=\"dataframe\">\n",
       "  <thead>\n",
       "    <tr style=\"text-align: right;\">\n",
       "      <th></th>\n",
       "      <th>title_year</th>\n",
       "      <th>budget</th>\n",
       "      <th>Gross</th>\n",
       "      <th>actor_1_facebook_likes</th>\n",
       "      <th>actor_2_facebook_likes</th>\n",
       "      <th>actor_3_facebook_likes</th>\n",
       "      <th>IMDb_rating</th>\n",
       "      <th>MetaCritic</th>\n",
       "      <th>Runtime</th>\n",
       "      <th>CVotes10</th>\n",
       "      <th>...</th>\n",
       "      <th>Votes1829F</th>\n",
       "      <th>Votes3044</th>\n",
       "      <th>Votes3044M</th>\n",
       "      <th>Votes3044F</th>\n",
       "      <th>Votes45A</th>\n",
       "      <th>Votes45AM</th>\n",
       "      <th>Votes45AF</th>\n",
       "      <th>Votes1000</th>\n",
       "      <th>VotesUS</th>\n",
       "      <th>VotesnUS</th>\n",
       "    </tr>\n",
       "  </thead>\n",
       "  <tbody>\n",
       "    <tr>\n",
       "      <th>count</th>\n",
       "      <td>100.000000</td>\n",
       "      <td>1.000000e+02</td>\n",
       "      <td>1.000000e+02</td>\n",
       "      <td>100.000000</td>\n",
       "      <td>99.000000</td>\n",
       "      <td>98.000000</td>\n",
       "      <td>100.000000</td>\n",
       "      <td>95.000000</td>\n",
       "      <td>100.000000</td>\n",
       "      <td>100.000000</td>\n",
       "      <td>...</td>\n",
       "      <td>100.000000</td>\n",
       "      <td>100.000000</td>\n",
       "      <td>100.000000</td>\n",
       "      <td>100.000000</td>\n",
       "      <td>100.00000</td>\n",
       "      <td>100.000000</td>\n",
       "      <td>100.000000</td>\n",
       "      <td>100.000000</td>\n",
       "      <td>100.000000</td>\n",
       "      <td>100.000000</td>\n",
       "    </tr>\n",
       "    <tr>\n",
       "      <th>mean</th>\n",
       "      <td>2012.820000</td>\n",
       "      <td>7.838400e+07</td>\n",
       "      <td>1.468679e+08</td>\n",
       "      <td>13407.270000</td>\n",
       "      <td>7377.303030</td>\n",
       "      <td>3002.153061</td>\n",
       "      <td>7.883000</td>\n",
       "      <td>78.252632</td>\n",
       "      <td>126.420000</td>\n",
       "      <td>73212.160000</td>\n",
       "      <td>...</td>\n",
       "      <td>7.982000</td>\n",
       "      <td>7.732000</td>\n",
       "      <td>7.723000</td>\n",
       "      <td>7.780000</td>\n",
       "      <td>7.65100</td>\n",
       "      <td>7.624000</td>\n",
       "      <td>7.770000</td>\n",
       "      <td>7.274000</td>\n",
       "      <td>7.958000</td>\n",
       "      <td>7.793000</td>\n",
       "    </tr>\n",
       "    <tr>\n",
       "      <th>std</th>\n",
       "      <td>1.919491</td>\n",
       "      <td>7.445295e+07</td>\n",
       "      <td>1.454004e+08</td>\n",
       "      <td>10649.037862</td>\n",
       "      <td>13471.568216</td>\n",
       "      <td>6940.301133</td>\n",
       "      <td>0.247433</td>\n",
       "      <td>9.122066</td>\n",
       "      <td>19.050799</td>\n",
       "      <td>82669.594746</td>\n",
       "      <td>...</td>\n",
       "      <td>0.321417</td>\n",
       "      <td>0.251814</td>\n",
       "      <td>0.260479</td>\n",
       "      <td>0.282128</td>\n",
       "      <td>0.21485</td>\n",
       "      <td>0.213258</td>\n",
       "      <td>0.301344</td>\n",
       "      <td>0.361987</td>\n",
       "      <td>0.232327</td>\n",
       "      <td>0.264099</td>\n",
       "    </tr>\n",
       "    <tr>\n",
       "      <th>min</th>\n",
       "      <td>2010.000000</td>\n",
       "      <td>3.000000e+06</td>\n",
       "      <td>2.238380e+05</td>\n",
       "      <td>39.000000</td>\n",
       "      <td>12.000000</td>\n",
       "      <td>0.000000</td>\n",
       "      <td>7.500000</td>\n",
       "      <td>62.000000</td>\n",
       "      <td>91.000000</td>\n",
       "      <td>6420.000000</td>\n",
       "      <td>...</td>\n",
       "      <td>7.300000</td>\n",
       "      <td>7.300000</td>\n",
       "      <td>7.200000</td>\n",
       "      <td>7.200000</td>\n",
       "      <td>7.10000</td>\n",
       "      <td>7.100000</td>\n",
       "      <td>7.000000</td>\n",
       "      <td>6.400000</td>\n",
       "      <td>7.500000</td>\n",
       "      <td>7.300000</td>\n",
       "    </tr>\n",
       "    <tr>\n",
       "      <th>25%</th>\n",
       "      <td>2011.000000</td>\n",
       "      <td>1.575000e+07</td>\n",
       "      <td>4.199752e+07</td>\n",
       "      <td>1000.000000</td>\n",
       "      <td>580.000000</td>\n",
       "      <td>319.750000</td>\n",
       "      <td>7.700000</td>\n",
       "      <td>72.000000</td>\n",
       "      <td>114.750000</td>\n",
       "      <td>30587.000000</td>\n",
       "      <td>...</td>\n",
       "      <td>7.700000</td>\n",
       "      <td>7.600000</td>\n",
       "      <td>7.500000</td>\n",
       "      <td>7.600000</td>\n",
       "      <td>7.50000</td>\n",
       "      <td>7.475000</td>\n",
       "      <td>7.500000</td>\n",
       "      <td>7.100000</td>\n",
       "      <td>7.800000</td>\n",
       "      <td>7.600000</td>\n",
       "    </tr>\n",
       "    <tr>\n",
       "      <th>50%</th>\n",
       "      <td>2013.000000</td>\n",
       "      <td>4.225000e+07</td>\n",
       "      <td>1.070266e+08</td>\n",
       "      <td>13000.000000</td>\n",
       "      <td>1000.000000</td>\n",
       "      <td>626.500000</td>\n",
       "      <td>7.800000</td>\n",
       "      <td>78.000000</td>\n",
       "      <td>124.000000</td>\n",
       "      <td>54900.500000</td>\n",
       "      <td>...</td>\n",
       "      <td>8.000000</td>\n",
       "      <td>7.700000</td>\n",
       "      <td>7.700000</td>\n",
       "      <td>7.800000</td>\n",
       "      <td>7.65000</td>\n",
       "      <td>7.600000</td>\n",
       "      <td>7.800000</td>\n",
       "      <td>7.300000</td>\n",
       "      <td>7.950000</td>\n",
       "      <td>7.750000</td>\n",
       "    </tr>\n",
       "    <tr>\n",
       "      <th>75%</th>\n",
       "      <td>2014.000000</td>\n",
       "      <td>1.500000e+08</td>\n",
       "      <td>2.107548e+08</td>\n",
       "      <td>20000.000000</td>\n",
       "      <td>11000.000000</td>\n",
       "      <td>1000.000000</td>\n",
       "      <td>8.100000</td>\n",
       "      <td>83.500000</td>\n",
       "      <td>136.250000</td>\n",
       "      <td>80639.000000</td>\n",
       "      <td>...</td>\n",
       "      <td>8.200000</td>\n",
       "      <td>7.900000</td>\n",
       "      <td>7.900000</td>\n",
       "      <td>8.000000</td>\n",
       "      <td>7.80000</td>\n",
       "      <td>7.800000</td>\n",
       "      <td>7.925000</td>\n",
       "      <td>7.500000</td>\n",
       "      <td>8.100000</td>\n",
       "      <td>7.925000</td>\n",
       "    </tr>\n",
       "    <tr>\n",
       "      <th>max</th>\n",
       "      <td>2016.000000</td>\n",
       "      <td>2.600000e+08</td>\n",
       "      <td>9.366622e+08</td>\n",
       "      <td>35000.000000</td>\n",
       "      <td>96000.000000</td>\n",
       "      <td>46000.000000</td>\n",
       "      <td>8.800000</td>\n",
       "      <td>100.000000</td>\n",
       "      <td>180.000000</td>\n",
       "      <td>584839.000000</td>\n",
       "      <td>...</td>\n",
       "      <td>8.800000</td>\n",
       "      <td>8.700000</td>\n",
       "      <td>8.700000</td>\n",
       "      <td>8.500000</td>\n",
       "      <td>8.10000</td>\n",
       "      <td>8.100000</td>\n",
       "      <td>8.500000</td>\n",
       "      <td>8.200000</td>\n",
       "      <td>8.700000</td>\n",
       "      <td>8.800000</td>\n",
       "    </tr>\n",
       "  </tbody>\n",
       "</table>\n",
       "<p>8 rows × 53 columns</p>\n",
       "</div>"
      ],
      "text/plain": [
       "        title_year        budget         Gross  actor_1_facebook_likes  \\\n",
       "count   100.000000  1.000000e+02  1.000000e+02              100.000000   \n",
       "mean   2012.820000  7.838400e+07  1.468679e+08            13407.270000   \n",
       "std       1.919491  7.445295e+07  1.454004e+08            10649.037862   \n",
       "min    2010.000000  3.000000e+06  2.238380e+05               39.000000   \n",
       "25%    2011.000000  1.575000e+07  4.199752e+07             1000.000000   \n",
       "50%    2013.000000  4.225000e+07  1.070266e+08            13000.000000   \n",
       "75%    2014.000000  1.500000e+08  2.107548e+08            20000.000000   \n",
       "max    2016.000000  2.600000e+08  9.366622e+08            35000.000000   \n",
       "\n",
       "       actor_2_facebook_likes  actor_3_facebook_likes  IMDb_rating  \\\n",
       "count               99.000000               98.000000   100.000000   \n",
       "mean              7377.303030             3002.153061     7.883000   \n",
       "std              13471.568216             6940.301133     0.247433   \n",
       "min                 12.000000                0.000000     7.500000   \n",
       "25%                580.000000              319.750000     7.700000   \n",
       "50%               1000.000000              626.500000     7.800000   \n",
       "75%              11000.000000             1000.000000     8.100000   \n",
       "max              96000.000000            46000.000000     8.800000   \n",
       "\n",
       "       MetaCritic     Runtime       CVotes10  ...  Votes1829F   Votes3044  \\\n",
       "count   95.000000  100.000000     100.000000  ...  100.000000  100.000000   \n",
       "mean    78.252632  126.420000   73212.160000  ...    7.982000    7.732000   \n",
       "std      9.122066   19.050799   82669.594746  ...    0.321417    0.251814   \n",
       "min     62.000000   91.000000    6420.000000  ...    7.300000    7.300000   \n",
       "25%     72.000000  114.750000   30587.000000  ...    7.700000    7.600000   \n",
       "50%     78.000000  124.000000   54900.500000  ...    8.000000    7.700000   \n",
       "75%     83.500000  136.250000   80639.000000  ...    8.200000    7.900000   \n",
       "max    100.000000  180.000000  584839.000000  ...    8.800000    8.700000   \n",
       "\n",
       "       Votes3044M  Votes3044F   Votes45A   Votes45AM   Votes45AF   Votes1000  \\\n",
       "count  100.000000  100.000000  100.00000  100.000000  100.000000  100.000000   \n",
       "mean     7.723000    7.780000    7.65100    7.624000    7.770000    7.274000   \n",
       "std      0.260479    0.282128    0.21485    0.213258    0.301344    0.361987   \n",
       "min      7.200000    7.200000    7.10000    7.100000    7.000000    6.400000   \n",
       "25%      7.500000    7.600000    7.50000    7.475000    7.500000    7.100000   \n",
       "50%      7.700000    7.800000    7.65000    7.600000    7.800000    7.300000   \n",
       "75%      7.900000    8.000000    7.80000    7.800000    7.925000    7.500000   \n",
       "max      8.700000    8.500000    8.10000    8.100000    8.500000    8.200000   \n",
       "\n",
       "          VotesUS    VotesnUS  \n",
       "count  100.000000  100.000000  \n",
       "mean     7.958000    7.793000  \n",
       "std      0.232327    0.264099  \n",
       "min      7.500000    7.300000  \n",
       "25%      7.800000    7.600000  \n",
       "50%      7.950000    7.750000  \n",
       "75%      8.100000    7.925000  \n",
       "max      8.700000    8.800000  \n",
       "\n",
       "[8 rows x 53 columns]"
      ]
     },
     "execution_count": 27,
     "metadata": {},
     "output_type": "execute_result"
    }
   ],
   "source": [
    "# Check the summary for the numeric columns \n",
    "movies.describe()\n"
   ]
  },
  {
   "cell_type": "markdown",
   "metadata": {},
   "source": [
    "## Task 2: Data Analysis\n",
    "\n",
    "Now that we have loaded the dataset and inspected it, we see that most of the data is in place. As of now, no data cleaning is required, so let's start with some data manipulation, analysis, and visualisation to get various insights about the data. "
   ]
  },
  {
   "cell_type": "markdown",
   "metadata": {},
   "source": [
    "-  ###  Subtask 2.1: Reduce those Digits!\n",
    "\n",
    "These numbers in the `budget` and `gross` are too big, compromising its readability. Let's convert the unit of the `budget` and `gross` columns from `$` to `million $` first."
   ]
  },
  {
   "cell_type": "code",
   "execution_count": 28,
   "metadata": {},
   "outputs": [],
   "source": [
    "# Divide the 'gross' and 'budget' columns by 1000000 to convert '$' to 'million $'\n",
    "movies['budget']=movies['budget'].apply(lambda x: x/1000000)\n",
    "movies['Gross']=movies['Gross'].apply(lambda x: x/1000000)\n"
   ]
  },
  {
   "cell_type": "markdown",
   "metadata": {},
   "source": [
    "-  ###  Subtask 2.2: Let's Talk Profit!\n",
    "\n",
    "    1. Create a new column called `profit` which contains the difference of the two columns: `gross` and `budget`.\n",
    "    2. Sort the dataframe using the `profit` column as reference.\n",
    "    3. Extract the top ten profiting movies in descending order and store them in a new dataframe - `top10`.\n",
    "    4. Plot a scatter or a joint plot between the columns `budget` and `profit` and write a few words on what you observed.\n",
    "    5. Extract the movies with a negative profit and store them in a new dataframe - `neg_profit`"
   ]
  },
  {
   "cell_type": "code",
   "execution_count": 29,
   "metadata": {},
   "outputs": [],
   "source": [
    "# Create the new column named 'profit' by subtracting the 'budget' column from the 'gross' column\n",
    "movies['profit']=movies['Gross']-movies['budget']\n"
   ]
  },
  {
   "cell_type": "code",
   "execution_count": 30,
   "metadata": {},
   "outputs": [],
   "source": [
    "# Sort the dataframe with the 'profit' column as reference using the 'sort_values' function. Make sure to set the argument\n",
    "#'ascending' to 'False'\n",
    "movies.sort_values(by=['profit'], ascending=False,inplace=True)\n"
   ]
  },
  {
   "cell_type": "code",
   "execution_count": 31,
   "metadata": {},
   "outputs": [],
   "source": [
    "# Get the top 10 profitable movies by using position based indexing. Specify the rows till 10 (0-9)\n",
    "top10=movies.iloc[0:10,:]\n",
    "\n"
   ]
  },
  {
   "cell_type": "code",
   "execution_count": 32,
   "metadata": {},
   "outputs": [
    {
     "data": {
      "image/png": "[encoded data removed]",
      "text/plain": [
       "<Figure size 864x504 with 1 Axes>"
      ]
     },
     "metadata": {
      "needs_background": "light"
     },
     "output_type": "display_data"
    }
   ],
   "source": [
    "#Plot profit vs budget\n",
    "#need to check if scatter plot to be done on top10 or movies dataframe - need to br done on movies\n",
    "plt.figure(figsize=(12,7))\n",
    "sns.scatterplot(movies['budget'],movies['profit'])\n",
    "plt.show()\n",
    "\n",
    "#Few words: After analyzing the scatter plot we could see that a higher budget movie does not mean higher profits.\n",
    "# Whereas movies with relatively low budget have made better profits with respect to Budget:Profit ratio  "
   ]
  },
  {
   "cell_type": "markdown",
   "metadata": {},
   "source": [
    "The dataset contains the 100 best performing movies from the year 2010 to 2016. However, the scatter plot tells a different story. You can notice that there are some movies with negative profit. Although good movies do incur losses, but there appear to be quite a few movie with losses. What can be the reason behind this? Lets have a closer look at this by finding the movies with negative profit."
   ]
  },
  {
   "cell_type": "code",
   "execution_count": 35,
   "metadata": {},
   "outputs": [
    {
     "data": {
      "text/html": [
       "<div>\n",
       "<style scoped>\n",
       "    .dataframe tbody tr th:only-of-type {\n",
       "        vertical-align: middle;\n",
       "    }\n",
       "\n",
       "    .dataframe tbody tr th {\n",
       "        vertical-align: top;\n",
       "    }\n",
       "\n",
       "    .dataframe thead th {\n",
       "        text-align: right;\n",
       "    }\n",
       "</style>\n",
       "<table border=\"1\" class=\"dataframe\">\n",
       "  <thead>\n",
       "    <tr style=\"text-align: right;\">\n",
       "      <th></th>\n",
       "      <th>Title</th>\n",
       "      <th>title_year</th>\n",
       "      <th>budget</th>\n",
       "      <th>Gross</th>\n",
       "      <th>actor_1_name</th>\n",
       "      <th>actor_2_name</th>\n",
       "      <th>actor_3_name</th>\n",
       "      <th>actor_1_facebook_likes</th>\n",
       "      <th>actor_2_facebook_likes</th>\n",
       "      <th>actor_3_facebook_likes</th>\n",
       "      <th>...</th>\n",
       "      <th>Votes3044F</th>\n",
       "      <th>Votes45A</th>\n",
       "      <th>Votes45AM</th>\n",
       "      <th>Votes45AF</th>\n",
       "      <th>Votes1000</th>\n",
       "      <th>VotesUS</th>\n",
       "      <th>VotesnUS</th>\n",
       "      <th>content_rating</th>\n",
       "      <th>Country</th>\n",
       "      <th>profit</th>\n",
       "    </tr>\n",
       "  </thead>\n",
       "  <tbody>\n",
       "    <tr>\n",
       "      <th>99</th>\n",
       "      <td>Tucker and Dale vs Evil</td>\n",
       "      <td>2010</td>\n",
       "      <td>5.0</td>\n",
       "      <td>0.223838</td>\n",
       "      <td>Katrina Bowden</td>\n",
       "      <td>Tyler Labine</td>\n",
       "      <td>Chelan Simmons</td>\n",
       "      <td>948</td>\n",
       "      <td>779.0</td>\n",
       "      <td>440.0</td>\n",
       "      <td>...</td>\n",
       "      <td>7.7</td>\n",
       "      <td>7.5</td>\n",
       "      <td>7.4</td>\n",
       "      <td>7.7</td>\n",
       "      <td>7.1</td>\n",
       "      <td>7.7</td>\n",
       "      <td>7.5</td>\n",
       "      <td>R</td>\n",
       "      <td>Canada</td>\n",
       "      <td>-4.776162</td>\n",
       "    </tr>\n",
       "    <tr>\n",
       "      <th>89</th>\n",
       "      <td>Amour</td>\n",
       "      <td>2012</td>\n",
       "      <td>8.9</td>\n",
       "      <td>0.225377</td>\n",
       "      <td>Isabelle Huppert</td>\n",
       "      <td>Emmanuelle Riva</td>\n",
       "      <td>Jean-Louis Trintignant</td>\n",
       "      <td>678</td>\n",
       "      <td>432.0</td>\n",
       "      <td>319.0</td>\n",
       "      <td>...</td>\n",
       "      <td>7.9</td>\n",
       "      <td>7.9</td>\n",
       "      <td>7.8</td>\n",
       "      <td>8.1</td>\n",
       "      <td>7.2</td>\n",
       "      <td>7.9</td>\n",
       "      <td>7.8</td>\n",
       "      <td>PG-13</td>\n",
       "      <td>France</td>\n",
       "      <td>-8.674623</td>\n",
       "    </tr>\n",
       "    <tr>\n",
       "      <th>56</th>\n",
       "      <td>Rush</td>\n",
       "      <td>2013</td>\n",
       "      <td>38.0</td>\n",
       "      <td>26.903709</td>\n",
       "      <td>Chris Hemsworth</td>\n",
       "      <td>Olivia Wilde</td>\n",
       "      <td>Alexandra Maria Lara</td>\n",
       "      <td>26000</td>\n",
       "      <td>10000.0</td>\n",
       "      <td>471.0</td>\n",
       "      <td>...</td>\n",
       "      <td>7.9</td>\n",
       "      <td>7.8</td>\n",
       "      <td>7.8</td>\n",
       "      <td>7.8</td>\n",
       "      <td>7.1</td>\n",
       "      <td>7.9</td>\n",
       "      <td>8.1</td>\n",
       "      <td>R</td>\n",
       "      <td>UK</td>\n",
       "      <td>-11.096291</td>\n",
       "    </tr>\n",
       "    <tr>\n",
       "      <th>66</th>\n",
       "      <td>Warrior</td>\n",
       "      <td>2011</td>\n",
       "      <td>25.0</td>\n",
       "      <td>13.651662</td>\n",
       "      <td>Tom Hardy</td>\n",
       "      <td>Frank Grillo</td>\n",
       "      <td>Kevin Dunn</td>\n",
       "      <td>27000</td>\n",
       "      <td>798.0</td>\n",
       "      <td>581.0</td>\n",
       "      <td>...</td>\n",
       "      <td>8.0</td>\n",
       "      <td>7.7</td>\n",
       "      <td>7.7</td>\n",
       "      <td>7.5</td>\n",
       "      <td>7.1</td>\n",
       "      <td>8.2</td>\n",
       "      <td>8.1</td>\n",
       "      <td>PG-13</td>\n",
       "      <td>USA</td>\n",
       "      <td>-11.348338</td>\n",
       "    </tr>\n",
       "    <tr>\n",
       "      <th>82</th>\n",
       "      <td>Flipped</td>\n",
       "      <td>2010</td>\n",
       "      <td>14.0</td>\n",
       "      <td>1.752214</td>\n",
       "      <td>Madeline Carroll</td>\n",
       "      <td>Rebecca De Mornay</td>\n",
       "      <td>Aidan Quinn</td>\n",
       "      <td>1000</td>\n",
       "      <td>872.0</td>\n",
       "      <td>767.0</td>\n",
       "      <td>...</td>\n",
       "      <td>7.7</td>\n",
       "      <td>7.4</td>\n",
       "      <td>7.3</td>\n",
       "      <td>7.6</td>\n",
       "      <td>6.4</td>\n",
       "      <td>7.5</td>\n",
       "      <td>7.7</td>\n",
       "      <td>PG</td>\n",
       "      <td>USA</td>\n",
       "      <td>-12.247786</td>\n",
       "    </tr>\n",
       "    <tr>\n",
       "      <th>28</th>\n",
       "      <td>X-Men: First Class</td>\n",
       "      <td>2011</td>\n",
       "      <td>160.0</td>\n",
       "      <td>146.405371</td>\n",
       "      <td>Jennifer Lawrence</td>\n",
       "      <td>Michael Fassbender</td>\n",
       "      <td>Oliver Platt</td>\n",
       "      <td>34000</td>\n",
       "      <td>13000.0</td>\n",
       "      <td>1000.0</td>\n",
       "      <td>...</td>\n",
       "      <td>7.8</td>\n",
       "      <td>7.6</td>\n",
       "      <td>7.5</td>\n",
       "      <td>7.7</td>\n",
       "      <td>7.3</td>\n",
       "      <td>7.8</td>\n",
       "      <td>7.7</td>\n",
       "      <td>PG-13</td>\n",
       "      <td>USA</td>\n",
       "      <td>-13.594629</td>\n",
       "    </tr>\n",
       "    <tr>\n",
       "      <th>46</th>\n",
       "      <td>Scott Pilgrim vs. the World</td>\n",
       "      <td>2010</td>\n",
       "      <td>60.0</td>\n",
       "      <td>31.494270</td>\n",
       "      <td>Anna Kendrick</td>\n",
       "      <td>Kieran Culkin</td>\n",
       "      <td>Ellen Wong</td>\n",
       "      <td>10000</td>\n",
       "      <td>1000.0</td>\n",
       "      <td>719.0</td>\n",
       "      <td>...</td>\n",
       "      <td>7.2</td>\n",
       "      <td>7.1</td>\n",
       "      <td>7.1</td>\n",
       "      <td>7.0</td>\n",
       "      <td>6.6</td>\n",
       "      <td>7.8</td>\n",
       "      <td>7.4</td>\n",
       "      <td>PG-13</td>\n",
       "      <td>USA</td>\n",
       "      <td>-28.505730</td>\n",
       "    </tr>\n",
       "    <tr>\n",
       "      <th>7</th>\n",
       "      <td>Tangled</td>\n",
       "      <td>2010</td>\n",
       "      <td>260.0</td>\n",
       "      <td>200.807262</td>\n",
       "      <td>Brad Garrett</td>\n",
       "      <td>Donna Murphy</td>\n",
       "      <td>M.C. Gainey</td>\n",
       "      <td>799</td>\n",
       "      <td>553.0</td>\n",
       "      <td>284.0</td>\n",
       "      <td>...</td>\n",
       "      <td>8.0</td>\n",
       "      <td>7.7</td>\n",
       "      <td>7.6</td>\n",
       "      <td>7.9</td>\n",
       "      <td>6.9</td>\n",
       "      <td>7.9</td>\n",
       "      <td>7.7</td>\n",
       "      <td>PG</td>\n",
       "      <td>USA</td>\n",
       "      <td>-59.192738</td>\n",
       "    </tr>\n",
       "    <tr>\n",
       "      <th>17</th>\n",
       "      <td>Edge of Tomorrow</td>\n",
       "      <td>2014</td>\n",
       "      <td>178.0</td>\n",
       "      <td>100.189501</td>\n",
       "      <td>Tom Cruise</td>\n",
       "      <td>Lara Pulver</td>\n",
       "      <td>Noah Taylor</td>\n",
       "      <td>10000</td>\n",
       "      <td>854.0</td>\n",
       "      <td>509.0</td>\n",
       "      <td>...</td>\n",
       "      <td>7.7</td>\n",
       "      <td>7.8</td>\n",
       "      <td>7.8</td>\n",
       "      <td>7.8</td>\n",
       "      <td>7.5</td>\n",
       "      <td>8.0</td>\n",
       "      <td>7.8</td>\n",
       "      <td>PG-13</td>\n",
       "      <td>USA</td>\n",
       "      <td>-77.810499</td>\n",
       "    </tr>\n",
       "    <tr>\n",
       "      <th>39</th>\n",
       "      <td>The Little Prince</td>\n",
       "      <td>2015</td>\n",
       "      <td>81.2</td>\n",
       "      <td>1.339152</td>\n",
       "      <td>Jeff Bridges</td>\n",
       "      <td>James Franco</td>\n",
       "      <td>Mackenzie Foy</td>\n",
       "      <td>12000</td>\n",
       "      <td>11000.0</td>\n",
       "      <td>6000.0</td>\n",
       "      <td>...</td>\n",
       "      <td>7.9</td>\n",
       "      <td>7.5</td>\n",
       "      <td>7.4</td>\n",
       "      <td>7.9</td>\n",
       "      <td>6.6</td>\n",
       "      <td>7.7</td>\n",
       "      <td>7.7</td>\n",
       "      <td>PG</td>\n",
       "      <td>France</td>\n",
       "      <td>-79.860848</td>\n",
       "    </tr>\n",
       "  </tbody>\n",
       "</table>\n",
       "<p>10 rows × 63 columns</p>\n",
       "</div>"
      ],
      "text/plain": [
       "                          Title  title_year  budget       Gross  \\\n",
       "99      Tucker and Dale vs Evil        2010     5.0    0.223838   \n",
       "89                        Amour        2012     8.9    0.225377   \n",
       "56                         Rush        2013    38.0   26.903709   \n",
       "66                      Warrior        2011    25.0   13.651662   \n",
       "82                      Flipped        2010    14.0    1.752214   \n",
       "28           X-Men: First Class        2011   160.0  146.405371   \n",
       "46  Scott Pilgrim vs. the World        2010    60.0   31.494270   \n",
       "7                       Tangled        2010   260.0  200.807262   \n",
       "17             Edge of Tomorrow        2014   178.0  100.189501   \n",
       "39            The Little Prince        2015    81.2    1.339152   \n",
       "\n",
       "         actor_1_name        actor_2_name            actor_3_name  \\\n",
       "99     Katrina Bowden        Tyler Labine          Chelan Simmons   \n",
       "89   Isabelle Huppert     Emmanuelle Riva  Jean-Louis Trintignant   \n",
       "56    Chris Hemsworth        Olivia Wilde    Alexandra Maria Lara   \n",
       "66          Tom Hardy        Frank Grillo              Kevin Dunn   \n",
       "82   Madeline Carroll   Rebecca De Mornay             Aidan Quinn   \n",
       "28  Jennifer Lawrence  Michael Fassbender            Oliver Platt   \n",
       "46      Anna Kendrick       Kieran Culkin              Ellen Wong   \n",
       "7        Brad Garrett        Donna Murphy             M.C. Gainey   \n",
       "17         Tom Cruise         Lara Pulver             Noah Taylor   \n",
       "39       Jeff Bridges        James Franco           Mackenzie Foy   \n",
       "\n",
       "    actor_1_facebook_likes  actor_2_facebook_likes  actor_3_facebook_likes  \\\n",
       "99                     948                   779.0                   440.0   \n",
       "89                     678                   432.0                   319.0   \n",
       "56                   26000                 10000.0                   471.0   \n",
       "66                   27000                   798.0                   581.0   \n",
       "82                    1000                   872.0                   767.0   \n",
       "28                   34000                 13000.0                  1000.0   \n",
       "46                   10000                  1000.0                   719.0   \n",
       "7                      799                   553.0                   284.0   \n",
       "17                   10000                   854.0                   509.0   \n",
       "39                   12000                 11000.0                  6000.0   \n",
       "\n",
       "    ...  Votes3044F Votes45A Votes45AM Votes45AF  Votes1000  VotesUS  \\\n",
       "99  ...         7.7      7.5       7.4       7.7        7.1      7.7   \n",
       "89  ...         7.9      7.9       7.8       8.1        7.2      7.9   \n",
       "56  ...         7.9      7.8       7.8       7.8        7.1      7.9   \n",
       "66  ...         8.0      7.7       7.7       7.5        7.1      8.2   \n",
       "82  ...         7.7      7.4       7.3       7.6        6.4      7.5   \n",
       "28  ...         7.8      7.6       7.5       7.7        7.3      7.8   \n",
       "46  ...         7.2      7.1       7.1       7.0        6.6      7.8   \n",
       "7   ...         8.0      7.7       7.6       7.9        6.9      7.9   \n",
       "17  ...         7.7      7.8       7.8       7.8        7.5      8.0   \n",
       "39  ...         7.9      7.5       7.4       7.9        6.6      7.7   \n",
       "\n",
       "    VotesnUS  content_rating  Country     profit  \n",
       "99       7.5               R   Canada  -4.776162  \n",
       "89       7.8           PG-13   France  -8.674623  \n",
       "56       8.1               R       UK -11.096291  \n",
       "66       8.1           PG-13      USA -11.348338  \n",
       "82       7.7              PG      USA -12.247786  \n",
       "28       7.7           PG-13      USA -13.594629  \n",
       "46       7.4           PG-13      USA -28.505730  \n",
       "7        7.7              PG      USA -59.192738  \n",
       "17       7.8           PG-13      USA -77.810499  \n",
       "39       7.7              PG   France -79.860848  \n",
       "\n",
       "[10 rows x 63 columns]"
      ]
     },
     "execution_count": 35,
     "metadata": {},
     "output_type": "execute_result"
    }
   ],
   "source": [
    "#Find the movies with negative profit\n",
    "\n",
    "neg_profit=movies[movies['profit']<0]\n"
   ]
  },
  {
   "cell_type": "markdown",
   "metadata": {},
   "source": [
    "**`Checkpoint 1:`** Can you spot the movie `Tangled` in the dataset? You may be aware of the movie 'Tangled'. Although its one of the highest grossing movies of all time, it has negative profit as per this result. If you cross check the gross values of this movie (link: https://www.imdb.com/title/tt0398286/), you can see that the gross in the dataset accounts only for the domestic gross and not the worldwide gross. This is true for may other movies also in the list."
   ]
  },
  {
   "cell_type": "markdown",
   "metadata": {},
   "source": [
    "- ### Subtask 2.3: The General Audience and the Critics\n",
    "\n",
    "You might have noticed the column `MetaCritic` in this dataset. This is a very popular website where an average score is determined through the scores given by the top-rated critics. Second, you also have another column `IMDb_rating` which tells you the IMDb rating of a movie. This rating is determined by taking the average of hundred-thousands of ratings from the general audience. \n",
    "\n",
    "As a part of this subtask, you are required to find out the highest rated movies which have been liked by critics and audiences alike.\n",
    "1. Firstly you will notice that the `MetaCritic` score is on a scale of `100` whereas the `IMDb_rating` is on a scale of 10. First convert the `MetaCritic` column to a scale of 10.\n",
    "2. Now, to find out the movies which have been liked by both critics and audiences alike and also have a high rating overall, you need to -\n",
    "    - Create a new column `Avg_rating` which will have the average of the `MetaCritic` and `Rating` columns\n",
    "    - Retain only the movies in which the absolute difference(using abs() function) between the `IMDb_rating` and `Metacritic` columns is less than 0.5. Refer to this link to know how abs() funtion works - https://www.geeksforgeeks.org/abs-in-python/ .\n",
    "    - Sort these values in a descending order of `Avg_rating` and retain only the movies with a rating equal to or greater than `8` and store these movies in a new dataframe `UniversalAcclaim`.\n",
    "    "
   ]
  },
  {
   "cell_type": "code",
   "execution_count": 36,
   "metadata": {},
   "outputs": [],
   "source": [
    "# Change the scale of MetaCritic\n",
    "\n",
    "movies['MetaCritic']=movies['MetaCritic']/10\n"
   ]
  },
  {
   "cell_type": "code",
   "execution_count": 37,
   "metadata": {},
   "outputs": [],
   "source": [
    "# Find the average ratings\n",
    "movies['Avg_rating']=(movies['IMDb_rating']+movies['MetaCritic'])/2\n",
    "\n"
   ]
  },
  {
   "cell_type": "code",
   "execution_count": 38,
   "metadata": {},
   "outputs": [],
   "source": [
    "#Sort in descending order of average rating\n",
    "\n",
    "movies.sort_values(by=['Avg_rating'],ascending=False,inplace=True)\n"
   ]
  },
  {
   "cell_type": "code",
   "execution_count": 39,
   "metadata": {},
   "outputs": [],
   "source": [
    "# Find the movies with metacritic-Imdb rating < 0.5 and also with an average rating of >= 8 (sorted in descending order)\n",
    "\n",
    "UniversalAcclaim=movies[abs(movies['MetaCritic']-movies['IMDb_rating'])<0.5]\n",
    "\n",
    "UniversalAcclaim=movies[movies['Avg_rating']>=8]\n"
   ]
  },
  {
   "cell_type": "code",
   "execution_count": 40,
   "metadata": {},
   "outputs": [],
   "source": [
    "UniversalAcclaim.sort_values(by=['Avg_rating'],ascending=False,inplace=True)\n"
   ]
  },
  {
   "cell_type": "markdown",
   "metadata": {},
   "source": [
    "**`Checkpoint 2:`** Can you spot a `Star Wars` movie in your final dataset?\n",
    "\n",
    "Yes, Star Wars: Episode VII - The Force Awakens is there in the UniversalAcclaim dataset. "
   ]
  },
  {
   "cell_type": "markdown",
   "metadata": {},
   "source": [
    "- ### Subtask 2.4: Find the Most Popular Trios - I\n",
    "\n",
    "You're a producer looking to make a blockbuster movie. There will primarily be three lead roles in your movie and you wish to cast the most popular actors for it. Now, since you don't want to take a risk, you will cast a trio which has already acted in together in a movie before. The metric that you've chosen to check the popularity is the Facebook likes of each of these actors.\n",
    "\n",
    "The dataframe has three columns to help you out for the same, viz. `actor_1_facebook_likes`, `actor_2_facebook_likes`, and `actor_3_facebook_likes`. Your objective is to find the trios which has the most number of Facebook likes combined. That is, the sum of `actor_1_facebook_likes`, `actor_2_facebook_likes` and `actor_3_facebook_likes` should be maximum.\n",
    "Find out the top 5 popular trios, and output their names in a list.\n"
   ]
  },
  {
   "cell_type": "code",
   "execution_count": 42,
   "metadata": {},
   "outputs": [],
   "source": [
    "# Write your code here\n",
    "\n",
    "movies['Trio_facebook_likes']=movies['actor_1_facebook_likes']+movies['actor_2_facebook_likes']+movies['actor_3_facebook_likes']\n",
    "\n",
    "\n",
    "movies.sort_values(by=['Trio_facebook_likes'],ascending=False,inplace=True)\n",
    "\n"
   ]
  },
  {
   "cell_type": "code",
   "execution_count": 43,
   "metadata": {},
   "outputs": [],
   "source": [
    "#create a new dataframe for top 5 popular trios\n",
    "top_5_likes = movies.head()"
   ]
  },
  {
   "cell_type": "code",
   "execution_count": 44,
   "metadata": {},
   "outputs": [
    {
     "data": {
      "text/plain": [
       "[['Dev Patel', 'Nicole Kidman', 'Rooney Mara'],\n",
       " ['Leonardo DiCaprio', 'Tom Hardy', 'Joseph Gordon-Levitt'],\n",
       " ['Jennifer Lawrence', 'Peter Dinklage', 'Hugh Jackman'],\n",
       " ['Casey Affleck', 'Michelle Williams ', 'Kyle Chandler'],\n",
       " ['Tom Hardy', 'Christian Bale', 'Joseph Gordon-Levitt']]"
      ]
     },
     "execution_count": 44,
     "metadata": {},
     "output_type": "execute_result"
    }
   ],
   "source": [
    "#convert to list\n",
    "top_5_likes[['actor_1_name','actor_2_name','actor_3_name']].values.tolist()"
   ]
  },
  {
   "cell_type": "markdown",
   "metadata": {},
   "source": [
    "- ### Subtask 2.5: Find the Most Popular Trios - II\n",
    "\n",
    "In the previous subtask you found the popular trio based on the total number of facebook likes. Let's add a small condition to it and make sure that all three actors are popular. The condition is **none of the three actors' Facebook likes should be less than half of the other two**. For example, the following is a valid combo:\n",
    "- actor_1_facebook_likes: 70000\n",
    "- actor_2_facebook_likes: 40000\n",
    "- actor_3_facebook_likes: 50000\n",
    "\n",
    "But the below one is not:\n",
    "- actor_1_facebook_likes: 70000\n",
    "- actor_2_facebook_likes: 40000\n",
    "- actor_3_facebook_likes: 30000\n",
    "\n",
    "since in this case, `actor_3_facebook_likes` is 30000, which is less than half of `actor_1_facebook_likes`.\n",
    "\n",
    "Having this condition ensures that you aren't getting any unpopular actor in your trio (since the total likes calculated in the previous question doesn't tell anything about the individual popularities of each actor in the trio.).\n",
    "\n",
    "You can do a manual inspection of the top 5 popular trios you have found in the previous subtask and check how many of those trios satisfy this condition. Also, which is the most popular trio after applying the condition above? Write your answers in the markdown cell provided below."
   ]
  },
  {
   "cell_type": "markdown",
   "metadata": {},
   "source": [
    "**Write your answers below.**\n",
    "\n",
    "- **`No. of trios that satisfy the above condition:`** 3, they are ['Leonardo DiCaprio', 'Tom Hardy', 'Joseph Gordon-Levitt'],\n",
    " ['Jennifer Lawrence', 'Peter Dinklage', 'Hugh Jackman'],\n",
    " ['Tom Hardy', 'Christian Bale', 'Joseph Gordon-Levitt']]\n",
    "\n",
    "- **`Most popular trio after applying the condition:`** Leonardo DiCaprio,\tTom Hardy\tand Joseph Gordon-Levitt\t"
   ]
  },
  {
   "cell_type": "markdown",
   "metadata": {},
   "source": [
    "**`Optional:`** Even though you are finding this out by a natural inspection of the dataframe, can you also achieve this through some *if-else* statements to incorporate this. You can try this out on your own time after you are done with the assignment."
   ]
  },
  {
   "cell_type": "code",
   "execution_count": 34,
   "metadata": {
    "scrolled": true
   },
   "outputs": [
    {
     "data": {
      "text/html": [
       "<div>\n",
       "<style scoped>\n",
       "    .dataframe tbody tr th:only-of-type {\n",
       "        vertical-align: middle;\n",
       "    }\n",
       "\n",
       "    .dataframe tbody tr th {\n",
       "        vertical-align: top;\n",
       "    }\n",
       "\n",
       "    .dataframe thead th {\n",
       "        text-align: right;\n",
       "    }\n",
       "</style>\n",
       "<table border=\"1\" class=\"dataframe\">\n",
       "  <thead>\n",
       "    <tr style=\"text-align: right;\">\n",
       "      <th></th>\n",
       "      <th>Title</th>\n",
       "      <th>title_year</th>\n",
       "      <th>budget</th>\n",
       "      <th>Gross</th>\n",
       "      <th>actor_1_name</th>\n",
       "      <th>actor_2_name</th>\n",
       "      <th>actor_3_name</th>\n",
       "      <th>actor_1_facebook_likes</th>\n",
       "      <th>actor_2_facebook_likes</th>\n",
       "      <th>actor_3_facebook_likes</th>\n",
       "      <th>...</th>\n",
       "      <th>Votes45AM</th>\n",
       "      <th>Votes45AF</th>\n",
       "      <th>Votes1000</th>\n",
       "      <th>VotesUS</th>\n",
       "      <th>VotesnUS</th>\n",
       "      <th>content_rating</th>\n",
       "      <th>Country</th>\n",
       "      <th>profit</th>\n",
       "      <th>Avg_rating</th>\n",
       "      <th>Trio_facebook_likes</th>\n",
       "    </tr>\n",
       "  </thead>\n",
       "  <tbody>\n",
       "    <tr>\n",
       "      <th>2</th>\n",
       "      <td>Lion</td>\n",
       "      <td>2016</td>\n",
       "      <td>12.0</td>\n",
       "      <td>51.738905</td>\n",
       "      <td>Dev Patel</td>\n",
       "      <td>Nicole Kidman</td>\n",
       "      <td>Rooney Mara</td>\n",
       "      <td>33000</td>\n",
       "      <td>96000.0</td>\n",
       "      <td>9800.0</td>\n",
       "      <td>...</td>\n",
       "      <td>7.9</td>\n",
       "      <td>8.4</td>\n",
       "      <td>7.1</td>\n",
       "      <td>8.1</td>\n",
       "      <td>8.0</td>\n",
       "      <td>PG-13</td>\n",
       "      <td>Australia</td>\n",
       "      <td>39.738905</td>\n",
       "      <td>7.50</td>\n",
       "      <td>138800.0</td>\n",
       "    </tr>\n",
       "    <tr>\n",
       "      <th>27</th>\n",
       "      <td>Inception</td>\n",
       "      <td>2010</td>\n",
       "      <td>160.0</td>\n",
       "      <td>292.568851</td>\n",
       "      <td>Leonardo DiCaprio</td>\n",
       "      <td>Tom Hardy</td>\n",
       "      <td>Joseph Gordon-Levitt</td>\n",
       "      <td>29000</td>\n",
       "      <td>27000.0</td>\n",
       "      <td>23000.0</td>\n",
       "      <td>...</td>\n",
       "      <td>8.1</td>\n",
       "      <td>8.0</td>\n",
       "      <td>8.2</td>\n",
       "      <td>8.7</td>\n",
       "      <td>8.8</td>\n",
       "      <td>PG-13</td>\n",
       "      <td>USA</td>\n",
       "      <td>132.568851</td>\n",
       "      <td>8.10</td>\n",
       "      <td>79000.0</td>\n",
       "    </tr>\n",
       "    <tr>\n",
       "      <th>14</th>\n",
       "      <td>X-Men: Days of Future Past</td>\n",
       "      <td>2014</td>\n",
       "      <td>200.0</td>\n",
       "      <td>233.914986</td>\n",
       "      <td>Jennifer Lawrence</td>\n",
       "      <td>Peter Dinklage</td>\n",
       "      <td>Hugh Jackman</td>\n",
       "      <td>34000</td>\n",
       "      <td>22000.0</td>\n",
       "      <td>20000.0</td>\n",
       "      <td>...</td>\n",
       "      <td>7.7</td>\n",
       "      <td>7.9</td>\n",
       "      <td>7.4</td>\n",
       "      <td>8.1</td>\n",
       "      <td>7.9</td>\n",
       "      <td>PG-13</td>\n",
       "      <td>USA</td>\n",
       "      <td>33.914986</td>\n",
       "      <td>7.70</td>\n",
       "      <td>76000.0</td>\n",
       "    </tr>\n",
       "    <tr>\n",
       "      <th>4</th>\n",
       "      <td>Manchester by the Sea</td>\n",
       "      <td>2016</td>\n",
       "      <td>9.0</td>\n",
       "      <td>47.695371</td>\n",
       "      <td>Casey Affleck</td>\n",
       "      <td>Michelle Williams</td>\n",
       "      <td>Kyle Chandler</td>\n",
       "      <td>518</td>\n",
       "      <td>71000.0</td>\n",
       "      <td>3300.0</td>\n",
       "      <td>...</td>\n",
       "      <td>7.6</td>\n",
       "      <td>7.6</td>\n",
       "      <td>7.1</td>\n",
       "      <td>7.9</td>\n",
       "      <td>7.8</td>\n",
       "      <td>R</td>\n",
       "      <td>USA</td>\n",
       "      <td>38.695371</td>\n",
       "      <td>8.75</td>\n",
       "      <td>74818.0</td>\n",
       "    </tr>\n",
       "    <tr>\n",
       "      <th>8</th>\n",
       "      <td>The Dark Knight Rises</td>\n",
       "      <td>2012</td>\n",
       "      <td>250.0</td>\n",
       "      <td>448.130642</td>\n",
       "      <td>Tom Hardy</td>\n",
       "      <td>Christian Bale</td>\n",
       "      <td>Joseph Gordon-Levitt</td>\n",
       "      <td>27000</td>\n",
       "      <td>23000.0</td>\n",
       "      <td>23000.0</td>\n",
       "      <td>...</td>\n",
       "      <td>7.9</td>\n",
       "      <td>7.9</td>\n",
       "      <td>7.8</td>\n",
       "      <td>8.4</td>\n",
       "      <td>8.4</td>\n",
       "      <td>PG-13</td>\n",
       "      <td>USA</td>\n",
       "      <td>198.130642</td>\n",
       "      <td>8.10</td>\n",
       "      <td>73000.0</td>\n",
       "    </tr>\n",
       "  </tbody>\n",
       "</table>\n",
       "<p>5 rows × 65 columns</p>\n",
       "</div>"
      ],
      "text/plain": [
       "                         Title  title_year  budget       Gross  \\\n",
       "2                         Lion        2016    12.0   51.738905   \n",
       "27                   Inception        2010   160.0  292.568851   \n",
       "14  X-Men: Days of Future Past        2014   200.0  233.914986   \n",
       "4        Manchester by the Sea        2016     9.0   47.695371   \n",
       "8        The Dark Knight Rises        2012   250.0  448.130642   \n",
       "\n",
       "         actor_1_name        actor_2_name          actor_3_name  \\\n",
       "2           Dev Patel       Nicole Kidman           Rooney Mara   \n",
       "27  Leonardo DiCaprio           Tom Hardy  Joseph Gordon-Levitt   \n",
       "14  Jennifer Lawrence      Peter Dinklage          Hugh Jackman   \n",
       "4       Casey Affleck  Michelle Williams          Kyle Chandler   \n",
       "8           Tom Hardy      Christian Bale  Joseph Gordon-Levitt   \n",
       "\n",
       "    actor_1_facebook_likes  actor_2_facebook_likes  actor_3_facebook_likes  \\\n",
       "2                    33000                 96000.0                  9800.0   \n",
       "27                   29000                 27000.0                 23000.0   \n",
       "14                   34000                 22000.0                 20000.0   \n",
       "4                      518                 71000.0                  3300.0   \n",
       "8                    27000                 23000.0                 23000.0   \n",
       "\n",
       "    ...  Votes45AM Votes45AF Votes1000 VotesUS  VotesnUS  content_rating  \\\n",
       "2   ...        7.9       8.4       7.1     8.1       8.0           PG-13   \n",
       "27  ...        8.1       8.0       8.2     8.7       8.8           PG-13   \n",
       "14  ...        7.7       7.9       7.4     8.1       7.9           PG-13   \n",
       "4   ...        7.6       7.6       7.1     7.9       7.8               R   \n",
       "8   ...        7.9       7.9       7.8     8.4       8.4           PG-13   \n",
       "\n",
       "      Country      profit  Avg_rating  Trio_facebook_likes  \n",
       "2   Australia   39.738905        7.50             138800.0  \n",
       "27        USA  132.568851        8.10              79000.0  \n",
       "14        USA   33.914986        7.70              76000.0  \n",
       "4         USA   38.695371        8.75              74818.0  \n",
       "8         USA  198.130642        8.10              73000.0  \n",
       "\n",
       "[5 rows x 65 columns]"
      ]
     },
     "execution_count": 34,
     "metadata": {},
     "output_type": "execute_result"
    }
   ],
   "source": [
    "# Your answer here (optional and not graded)\n"
   ]
  },
  {
   "cell_type": "markdown",
   "metadata": {},
   "source": [
    "- ### Subtask 2.6: Runtime Analysis\n",
    "\n",
    "There is a column named `Runtime` in the dataframe which primarily shows the length of the movie. It might be intersting to see how this variable this distributed. Plot a `histogram` or `distplot` of seaborn to find the `Runtime` range most of the movies fall into."
   ]
  },
  {
   "cell_type": "code",
   "execution_count": 45,
   "metadata": {},
   "outputs": [
    {
     "data": {
      "image/png": "[encoded data removed]",
      "text/plain": [
       "<Figure size 864x432 with 1 Axes>"
      ]
     },
     "metadata": {
      "needs_background": "light"
     },
     "output_type": "display_data"
    }
   ],
   "source": [
    "# Runtime histogram/density plot\n",
    "\n",
    "plt.figure(figsize=(12,6))\n",
    "sns.distplot(movies['Runtime'])\n",
    "plt.show()"
   ]
  },
  {
   "cell_type": "markdown",
   "metadata": {},
   "source": [
    "**`Checkpoint 3:`** Most of the movies appear to be sharply 2 hour-long."
   ]
  },
  {
   "cell_type": "markdown",
   "metadata": {},
   "source": [
    "- ### Subtask 2.7: R-Rated Movies\n",
    "\n",
    "Although R rated movies are restricted movies for the under 18 age group, still there are vote counts from that age group. Among all the R rated movies that have been voted by the under-18 age group, find the top 10 movies that have the highest number of votes i.e.`CVotesU18` from the `movies` dataframe. Store these in a dataframe named `PopularR`."
   ]
  },
  {
   "cell_type": "code",
   "execution_count": 46,
   "metadata": {},
   "outputs": [],
   "source": [
    "# Write your code here\n",
    "PopularR=movies[movies['content_rating']=='R']\n",
    "\n",
    "PopularR.sort_values(by='CVotesU18',ascending=False,inplace=True)\n",
    "\n",
    "PopularR=PopularR.iloc[:10,:]\n"
   ]
  },
  {
   "cell_type": "code",
   "execution_count": 47,
   "metadata": {},
   "outputs": [
    {
     "data": {
      "text/html": [
       "<div>\n",
       "<style scoped>\n",
       "    .dataframe tbody tr th:only-of-type {\n",
       "        vertical-align: middle;\n",
       "    }\n",
       "\n",
       "    .dataframe tbody tr th {\n",
       "        vertical-align: top;\n",
       "    }\n",
       "\n",
       "    .dataframe thead th {\n",
       "        text-align: right;\n",
       "    }\n",
       "</style>\n",
       "<table border=\"1\" class=\"dataframe\">\n",
       "  <thead>\n",
       "    <tr style=\"text-align: right;\">\n",
       "      <th></th>\n",
       "      <th>Title</th>\n",
       "      <th>title_year</th>\n",
       "      <th>budget</th>\n",
       "      <th>Gross</th>\n",
       "      <th>actor_1_name</th>\n",
       "      <th>actor_2_name</th>\n",
       "      <th>actor_3_name</th>\n",
       "      <th>actor_1_facebook_likes</th>\n",
       "      <th>actor_2_facebook_likes</th>\n",
       "      <th>actor_3_facebook_likes</th>\n",
       "      <th>...</th>\n",
       "      <th>Votes45AM</th>\n",
       "      <th>Votes45AF</th>\n",
       "      <th>Votes1000</th>\n",
       "      <th>VotesUS</th>\n",
       "      <th>VotesnUS</th>\n",
       "      <th>content_rating</th>\n",
       "      <th>Country</th>\n",
       "      <th>profit</th>\n",
       "      <th>Avg_rating</th>\n",
       "      <th>Trio_facebook_likes</th>\n",
       "    </tr>\n",
       "  </thead>\n",
       "  <tbody>\n",
       "    <tr>\n",
       "      <th>47</th>\n",
       "      <td>Deadpool</td>\n",
       "      <td>2016</td>\n",
       "      <td>58.0</td>\n",
       "      <td>363.024263</td>\n",
       "      <td>Ryan Reynolds</td>\n",
       "      <td>Ed Skrein</td>\n",
       "      <td>Stefan Kapicic</td>\n",
       "      <td>16000</td>\n",
       "      <td>805.0</td>\n",
       "      <td>361.0</td>\n",
       "      <td>...</td>\n",
       "      <td>7.8</td>\n",
       "      <td>7.9</td>\n",
       "      <td>7.3</td>\n",
       "      <td>8.1</td>\n",
       "      <td>7.9</td>\n",
       "      <td>R</td>\n",
       "      <td>USA</td>\n",
       "      <td>305.024263</td>\n",
       "      <td>7.25</td>\n",
       "      <td>17166.0</td>\n",
       "    </tr>\n",
       "    <tr>\n",
       "      <th>36</th>\n",
       "      <td>The Wolf of Wall Street</td>\n",
       "      <td>2013</td>\n",
       "      <td>100.0</td>\n",
       "      <td>116.866727</td>\n",
       "      <td>Leonardo DiCaprio</td>\n",
       "      <td>Matthew McConaughey</td>\n",
       "      <td>Jon Favreau</td>\n",
       "      <td>29000</td>\n",
       "      <td>11000.0</td>\n",
       "      <td>4000.0</td>\n",
       "      <td>...</td>\n",
       "      <td>7.6</td>\n",
       "      <td>7.5</td>\n",
       "      <td>7.8</td>\n",
       "      <td>8.1</td>\n",
       "      <td>8.1</td>\n",
       "      <td>R</td>\n",
       "      <td>USA</td>\n",
       "      <td>16.866727</td>\n",
       "      <td>7.85</td>\n",
       "      <td>44000.0</td>\n",
       "    </tr>\n",
       "    <tr>\n",
       "      <th>35</th>\n",
       "      <td>Django Unchained</td>\n",
       "      <td>2012</td>\n",
       "      <td>100.0</td>\n",
       "      <td>162.804648</td>\n",
       "      <td>Leonardo DiCaprio</td>\n",
       "      <td>Christoph Waltz</td>\n",
       "      <td>Ato Essandoh</td>\n",
       "      <td>29000</td>\n",
       "      <td>11000.0</td>\n",
       "      <td>265.0</td>\n",
       "      <td>...</td>\n",
       "      <td>8.0</td>\n",
       "      <td>8.1</td>\n",
       "      <td>7.8</td>\n",
       "      <td>8.4</td>\n",
       "      <td>8.4</td>\n",
       "      <td>R</td>\n",
       "      <td>USA</td>\n",
       "      <td>62.804648</td>\n",
       "      <td>8.25</td>\n",
       "      <td>40265.0</td>\n",
       "    </tr>\n",
       "    <tr>\n",
       "      <th>29</th>\n",
       "      <td>Mad Max: Fury Road</td>\n",
       "      <td>2015</td>\n",
       "      <td>150.0</td>\n",
       "      <td>153.629485</td>\n",
       "      <td>Tom Hardy</td>\n",
       "      <td>Charlize Theron</td>\n",
       "      <td>ZoÃ« Kravitz</td>\n",
       "      <td>27000</td>\n",
       "      <td>9000.0</td>\n",
       "      <td>943.0</td>\n",
       "      <td>...</td>\n",
       "      <td>7.5</td>\n",
       "      <td>7.2</td>\n",
       "      <td>8.0</td>\n",
       "      <td>8.2</td>\n",
       "      <td>8.0</td>\n",
       "      <td>R</td>\n",
       "      <td>Australia</td>\n",
       "      <td>3.629485</td>\n",
       "      <td>8.55</td>\n",
       "      <td>36943.0</td>\n",
       "    </tr>\n",
       "    <tr>\n",
       "      <th>95</th>\n",
       "      <td>Whiplash</td>\n",
       "      <td>2014</td>\n",
       "      <td>3.3</td>\n",
       "      <td>13.092000</td>\n",
       "      <td>J.K. Simmons</td>\n",
       "      <td>Melissa Benoist</td>\n",
       "      <td>Chris Mulkey</td>\n",
       "      <td>24000</td>\n",
       "      <td>970.0</td>\n",
       "      <td>535.0</td>\n",
       "      <td>...</td>\n",
       "      <td>8.1</td>\n",
       "      <td>8.2</td>\n",
       "      <td>8.0</td>\n",
       "      <td>8.6</td>\n",
       "      <td>8.4</td>\n",
       "      <td>R</td>\n",
       "      <td>USA</td>\n",
       "      <td>9.792000</td>\n",
       "      <td>8.65</td>\n",
       "      <td>25505.0</td>\n",
       "    </tr>\n",
       "  </tbody>\n",
       "</table>\n",
       "<p>5 rows × 65 columns</p>\n",
       "</div>"
      ],
      "text/plain": [
       "                      Title  title_year  budget       Gross  \\\n",
       "47                 Deadpool        2016    58.0  363.024263   \n",
       "36  The Wolf of Wall Street        2013   100.0  116.866727   \n",
       "35         Django Unchained        2012   100.0  162.804648   \n",
       "29       Mad Max: Fury Road        2015   150.0  153.629485   \n",
       "95                 Whiplash        2014     3.3   13.092000   \n",
       "\n",
       "         actor_1_name         actor_2_name    actor_3_name  \\\n",
       "47      Ryan Reynolds            Ed Skrein  Stefan Kapicic   \n",
       "36  Leonardo DiCaprio  Matthew McConaughey     Jon Favreau   \n",
       "35  Leonardo DiCaprio      Christoph Waltz    Ato Essandoh   \n",
       "29          Tom Hardy      Charlize Theron    ZoÃ« Kravitz   \n",
       "95       J.K. Simmons      Melissa Benoist    Chris Mulkey   \n",
       "\n",
       "    actor_1_facebook_likes  actor_2_facebook_likes  actor_3_facebook_likes  \\\n",
       "47                   16000                   805.0                   361.0   \n",
       "36                   29000                 11000.0                  4000.0   \n",
       "35                   29000                 11000.0                   265.0   \n",
       "29                   27000                  9000.0                   943.0   \n",
       "95                   24000                   970.0                   535.0   \n",
       "\n",
       "    ...  Votes45AM Votes45AF Votes1000 VotesUS  VotesnUS  content_rating  \\\n",
       "47  ...        7.8       7.9       7.3     8.1       7.9               R   \n",
       "36  ...        7.6       7.5       7.8     8.1       8.1               R   \n",
       "35  ...        8.0       8.1       7.8     8.4       8.4               R   \n",
       "29  ...        7.5       7.2       8.0     8.2       8.0               R   \n",
       "95  ...        8.1       8.2       8.0     8.6       8.4               R   \n",
       "\n",
       "      Country      profit  Avg_rating  Trio_facebook_likes  \n",
       "47        USA  305.024263        7.25              17166.0  \n",
       "36        USA   16.866727        7.85              44000.0  \n",
       "35        USA   62.804648        8.25              40265.0  \n",
       "29  Australia    3.629485        8.55              36943.0  \n",
       "95        USA    9.792000        8.65              25505.0  \n",
       "\n",
       "[5 rows x 65 columns]"
      ]
     },
     "execution_count": 47,
     "metadata": {},
     "output_type": "execute_result"
    }
   ],
   "source": [
    "PopularR.head()"
   ]
  },
  {
   "cell_type": "markdown",
   "metadata": {},
   "source": [
    "**`Checkpoint 4:`** Are these kids watching `Deadpool` a lot? - Yes"
   ]
  },
  {
   "cell_type": "markdown",
   "metadata": {},
   "source": [
    " "
   ]
  },
  {
   "cell_type": "markdown",
   "metadata": {},
   "source": [
    "## Task 3 : Demographic analysis\n",
    "\n",
    "If you take a look at the last columns in the dataframe, most of these are related to demographics of the voters (in the last subtask, i.e., 2.8, you made use one of these columns - CVotesU18). We also have three genre columns indicating the genres of a particular movie. We will extensively use these columns for the third and the final stage of our assignment wherein we will analyse the voters across all demographics and also see how these vary across various genres. So without further ado, let's get started with `demographic analysis`."
   ]
  },
  {
   "cell_type": "markdown",
   "metadata": {},
   "source": [
    "-  ###  Subtask 3.1 Combine the Dataframe by Genres\n",
    "\n",
    "There are 3 columns in the dataframe - `genre_1`, `genre_2`, and `genre_3`. As a part of this subtask, you need to aggregate a few values over these 3 columns. \n",
    "1. First create a new dataframe `df_by_genre` that contains `genre_1`, `genre_2`, and `genre_3` and all the columns related to **CVotes/Votes** from the `movies` data frame. There are 47 columns to be extracted in total.\n",
    "2. Now, Add a column called `cnt` to the dataframe `df_by_genre` and initialize it to one. You will realise the use of this column by the end of this subtask.\n",
    "3. First group the dataframe `df_by_genre` by `genre_1` and find the sum of all the numeric columns such as `cnt`, columns related to CVotes and Votes columns and store it in a dataframe `df_by_g1`.\n",
    "4. Perform the same operation for `genre_2` and `genre_3` and store it dataframes `df_by_g2` and `df_by_g3` respectively. \n",
    "5. Now that you have 3 dataframes performed by grouping over `genre_1`, `genre_2`, and `genre_3` separately, it's time to combine them. For this, add the three dataframes and store it in a new dataframe `df_add`, so that the corresponding values of Votes/CVotes get added for each genre.There is a function called `add()` in pandas which lets you do this. You can refer to this link to see how this function works. https://pandas.pydata.org/pandas-docs/version/0.23.4/generated/pandas.DataFrame.add.html\n",
    "6. The column `cnt` on aggregation has basically kept the track of the number of occurences of each genre.Subset the genres that have atleast 10 movies into a new dataframe `genre_top10` based on the `cnt` column value.\n",
    "7. Now, take the mean of all the numeric columns by dividing them with the column value `cnt` and store it back to the same dataframe. We will be using this dataframe for further analysis in this task unless it is explicitly mentioned to use the dataframe `movies`.\n",
    "8. Since the number of votes can't be a fraction, type cast all the CVotes related columns to integers. Also, round off all the Votes related columns upto two digits after the decimal point.\n"
   ]
  },
  {
   "cell_type": "code",
   "execution_count": 48,
   "metadata": {},
   "outputs": [],
   "source": [
    "# Create the dataframe df_by_genre\n",
    "\n",
    "df_by_genre=movies[['genre_1','genre_2','genre_3','CVotes10','CVotes09','CVotes08',\n",
    "'CVotes07',\n",
    "'CVotes06',\n",
    "'CVotes05',\n",
    "'CVotes04',\n",
    "'CVotes03',\n",
    "'CVotes02',\n",
    "'CVotes01',\n",
    "'CVotesMale',\n",
    "'CVotesFemale',\n",
    "'CVotesU18',\n",
    "'CVotesU18M',\n",
    "'CVotesU18F',\n",
    "'CVotes1829',\n",
    "'CVotes1829M',\n",
    "'CVotes1829F',\n",
    "'CVotes3044',\n",
    "'CVotes3044M',\n",
    "'CVotes3044F',\n",
    "'CVotes45A',\n",
    "'CVotes45AM',\n",
    "'CVotes45AF',\n",
    "'CVotes1000',\n",
    "'CVotesUS',\n",
    "'CVotesnUS',\n",
    "'VotesM',\n",
    "'VotesF',\n",
    "'VotesU18',\n",
    "'VotesU18M',\n",
    "'VotesU18F',\n",
    "'Votes1829',\n",
    "'Votes1829M',\n",
    "'Votes1829F',\n",
    "'Votes3044',\n",
    "'Votes3044M',\n",
    "'Votes3044F',\n",
    "'Votes45A',\n",
    "'Votes45AM',\n",
    "'Votes45AF',\n",
    "'Votes1000',\n",
    "'VotesUS',\n",
    "'VotesnUS']]"
   ]
  },
  {
   "cell_type": "code",
   "execution_count": 49,
   "metadata": {},
   "outputs": [],
   "source": [
    "# Create a column cnt and initialize it to 1\n",
    "df_by_genre['cnt']=1\n"
   ]
  },
  {
   "cell_type": "code",
   "execution_count": 50,
   "metadata": {},
   "outputs": [],
   "source": [
    "# Group the movies by individual genres\n",
    "\n",
    "df_by_g1=df_by_genre.groupby('genre_1').sum()\n",
    "df_by_g2=df_by_genre.groupby('genre_2').sum()\n",
    "df_by_g3=df_by_genre.groupby('genre_3').sum()"
   ]
  },
  {
   "cell_type": "code",
   "execution_count": 51,
   "metadata": {},
   "outputs": [],
   "source": [
    "# Add the grouped data frames and store it in a new data frame\n",
    "\n",
    "df_add_g1g2=df_by_g1.add(df_by_g2,fill_value=0)"
   ]
  },
  {
   "cell_type": "code",
   "execution_count": 52,
   "metadata": {},
   "outputs": [],
   "source": [
    "df_add=df_add_g1g2.add(df_by_g3,fill_value=0)"
   ]
  },
  {
   "cell_type": "code",
   "execution_count": 54,
   "metadata": {},
   "outputs": [],
   "source": [
    "# Extract genres with atleast 10 occurences\n",
    "\n",
    "genre_top10= df_add[df_add['cnt']>=10]"
   ]
  },
  {
   "cell_type": "code",
   "execution_count": 55,
   "metadata": {},
   "outputs": [],
   "source": [
    "# Take the mean for every column by dividing with cnt \n",
    "\n",
    "genre_top10.iloc[:,:-1] = genre_top10.iloc[:,:-1].divide(genre_top10.cnt, axis = 0)"
   ]
  },
  {
   "cell_type": "code",
   "execution_count": 56,
   "metadata": {},
   "outputs": [],
   "source": [
    "# Rounding off the columns of Votes to two decimals\n",
    "\n",
    "genre_top10=genre_top10.apply(lambda x : round(x,2),axis=0 )\n",
    "\n"
   ]
  },
  {
   "cell_type": "code",
   "execution_count": 57,
   "metadata": {},
   "outputs": [],
   "source": [
    "# Converting CVotes to int type\n",
    "\n",
    "Cvotes_list = []\n",
    "for i in genre_top10.columns:\n",
    "    if i.startswith('CVotes'):\n",
    "        Cvotes_list.append(i)\n",
    "\n",
    "genre_top10[Cvotes_list]=genre_top10[Cvotes_list].astype('int')    \n",
    "      "
   ]
  },
  {
   "cell_type": "markdown",
   "metadata": {},
   "source": [
    "If you take a look at the final dataframe that you have gotten, you will see that you now have the complete information about all the demographic (Votes- and CVotes-related) columns across the top 10 genres. We can use this dataset to extract exciting insights about the voters!"
   ]
  },
  {
   "cell_type": "markdown",
   "metadata": {},
   "source": [
    "-  ###  Subtask 3.2: Genre Counts!\n",
    "\n",
    "Now let's derive some insights from this data frame. Make a bar chart plotting different genres vs cnt using seaborn."
   ]
  },
  {
   "cell_type": "code",
   "execution_count": 58,
   "metadata": {},
   "outputs": [
    {
     "data": {
      "image/png": "[encoded data removed]",
      "text/plain": [
       "<Figure size 720x360 with 1 Axes>"
      ]
     },
     "metadata": {
      "needs_background": "light"
     },
     "output_type": "display_data"
    }
   ],
   "source": [
    "# Countplot for genres\n",
    "\n",
    "\n",
    "plt.figure(figsize=(10,5))\n",
    "sns.barplot(genre_top10.index,genre_top10['cnt'])\n",
    "plt.show()"
   ]
  },
  {
   "cell_type": "markdown",
   "metadata": {},
   "source": [
    "**`Checkpoint 5:`** Is the bar for `Drama` the tallest? - Yes"
   ]
  },
  {
   "cell_type": "markdown",
   "metadata": {},
   "source": [
    "-  ###  Subtask 3.3: Gender and Genre\n",
    "\n",
    "If you have closely looked at the Votes- and CVotes-related columns, you might have noticed the suffixes `F` and `M` indicating Female and Male. Since we have the vote counts for both males and females, across various age groups, let's now see how the popularity of genres vary between the two genders in the dataframe. \n",
    "\n",
    "1. Make the first heatmap to see how the average number of votes of males is varying across the genres. Use seaborn heatmap for this analysis. The X-axis should contain the four age-groups for males, i.e., `CVotesU18M`,`CVotes1829M`, `CVotes3044M`, and `CVotes45AM`. The Y-axis will have the genres and the annotation in the heatmap tell the average number of votes for that age-male group. \n",
    "\n",
    "2. Make the second heatmap to see how the average number of votes of females is varying across the genres. Use seaborn heatmap for this analysis. The X-axis should contain the four age-groups for females, i.e., `CVotesU18F`,`CVotes1829F`, `CVotes3044F`, and `CVotes45AF`. The Y-axis will have the genres and the annotation in the heatmap tell the average number of votes for that age-female group. \n",
    "\n",
    "3. Make sure that you plot these heatmaps side by side using `subplots` so that you can easily compare the two genders and derive insights.\n",
    "\n",
    "4. Write your any three inferences from this plot. You can make use of the previous bar plot also here for better insights.\n",
    "Refer to this link- https://seaborn.pydata.org/generated/seaborn.heatmap.html. You might have to plot something similar to the fifth chart in this page (You have to plot two such heatmaps side by side).\n",
    "\n",
    "5. Repeat subtasks 1 to 4, but now instead of taking the CVotes-related columns, you need to do the same process for the Votes-related columns. These heatmaps will show you how the two genders have rated movies across various genres.\n",
    "\n",
    "You might need the below link for formatting your heatmap.\n",
    "https://stackoverflow.com/questions/56942670/matplotlib-seaborn-first-and-last-row-cut-in-half-of-heatmap-plot\n",
    "\n",
    "-  Note : Use `genre_top10` dataframe for this subtask"
   ]
  },
  {
   "cell_type": "code",
   "execution_count": 73,
   "metadata": {},
   "outputs": [
    {
     "data": {
      "image/png": "[encoded data removed]",
      "text/plain": [
       "<Figure size 1800x936 with 4 Axes>"
      ]
     },
     "metadata": {
      "needs_background": "light"
     },
     "output_type": "display_data"
    }
   ],
   "source": [
    "# 1st set of heat maps for CVotes-related columns\n",
    "\n",
    "\n",
    "plt.figure(figsize = (25,13))\n",
    "plt.subplot(1,2,1) \n",
    "sns.heatmap(genre_top10[['CVotesU18M','CVotes1829M', 'CVotes3044M','CVotes45AM']], annot = True, fmt = 'd')\n",
    "\n",
    "\n",
    "plt.subplot(1,2,2) \n",
    "sns.heatmap(genre_top10[['CVotesU18F','CVotes1829F', 'CVotes3044F','CVotes45AF']], annot = True, fmt = 'd')\n",
    "\n",
    "plt.show()"
   ]
  },
  {
   "cell_type": "markdown",
   "metadata": {},
   "source": [
    "**`Inferences:`** A few inferences that can be seen from the heatmap above is that males have voted more than females, and Sci-Fi appears to be most popular among the 18-29 age group irrespective of their gender. What more can you infer from the two heatmaps that you have plotted? Write your three inferences/observations below:\n",
    "- Inference 1: All the genres are least rated by age group under 18 irrespective of their gender\n",
    "- Inference 2:Action genre appears to be more popular among males of 30-44 age group than females.\n",
    "- Inference 3: Comedy genre appears to be more popular among females of 18-29 age group than males."
   ]
  },
  {
   "cell_type": "code",
   "execution_count": 72,
   "metadata": {},
   "outputs": [
    {
     "data": {
      "image/png": "[encoded data removed]",
      "text/plain": [
       "<Figure size 1656x1080 with 4 Axes>"
      ]
     },
     "metadata": {
      "needs_background": "light"
     },
     "output_type": "display_data"
    }
   ],
   "source": [
    "# 2nd set of heat maps for Votes-related columns\n",
    "\n",
    "plt.figure(figsize = (23,15))\n",
    "plt.subplot(1,2,1)\n",
    "sns.heatmap(genre_top10[['VotesU18M','Votes1829M', 'Votes3044M','Votes45AM']], annot = True)\n",
    "\n",
    "\n",
    "plt.subplot(1,2,2)\n",
    "sns.heatmap(genre_top10[['VotesU18F','Votes1829F', 'Votes3044F','Votes45AF']], annot = True)\n",
    "plt.show()"
   ]
  },
  {
   "cell_type": "markdown",
   "metadata": {},
   "source": [
    "**`Inferences:`** Sci-Fi appears to be the highest rated genre in the age group of U18 for both males and females. Also, females in this age group have rated it a bit higher than the males in the same age group. What more can you infer from the two heatmaps that you have plotted? Write your three inferences/observations below:\n",
    "- Inference 1:  Action and Adventure appears to be the better rated genre in the age group of U18 for females\n",
    "- Inference 2:  Thriller appears to be better rated genre in the age group of U18 for males.\n",
    "- Inference 3:  Drama appears to be similarily rated genre in the age group of 30-44 for both males and females."
   ]
  },
  {
   "cell_type": "markdown",
   "metadata": {},
   "source": [
    "-  ###  Subtask 3.4: US vs non-US Cross Analysis\n",
    "\n",
    "The dataset contains both the US and non-US movies. Let's analyse how both the US and the non-US voters have responded to the US and the non-US movies.\n",
    "\n",
    "1. Create a column `IFUS` in the dataframe `movies`. The column `IFUS` should contain the value \"USA\" if the `Country` of the movie is \"USA\". For all other countries other than the USA, `IFUS` should contain the value `non-USA`.\n",
    "\n",
    "\n",
    "2. Now make a boxplot that shows how the number of votes from the US people i.e. `CVotesUS` is varying for the US and non-US movies. Make use of the column `IFUS` to make this plot. Similarly, make another subplot that shows how non US voters have voted for the US and non-US movies by plotting `CVotesnUS` for both the US and non-US movies. Write any of your two inferences/observations from these plots.\n",
    "\n",
    "\n",
    "3. Again do a similar analysis but with the ratings. Make a boxplot that shows how the ratings from the US people i.e. `VotesUS` is varying for the US and non-US movies. Similarly, make another subplot that shows how `VotesnUS` is varying for the US and non-US movies. Write any of your two inferences/observations from these plots.\n",
    "\n",
    "Note : Use `movies` dataframe for this subtask. Make use of this documention to format your boxplot - https://seaborn.pydata.org/generated/seaborn.boxplot.html"
   ]
  },
  {
   "cell_type": "code",
   "execution_count": 74,
   "metadata": {},
   "outputs": [],
   "source": [
    "# Creating IFUS column\n",
    "movies['IFUS']= movies['Country'].apply(lambda x: 'USA' if x=='USA' else 'non-USA')"
   ]
  },
  {
   "cell_type": "code",
   "execution_count": 77,
   "metadata": {},
   "outputs": [
    {
     "data": {
      "image/png": "[encoded data removed]",
      "text/plain": [
       "<Figure size 720x504 with 1 Axes>"
      ]
     },
     "metadata": {
      "needs_background": "light"
     },
     "output_type": "display_data"
    }
   ],
   "source": [
    "# Box plot - 1: CVotesUS(y) vs IFUS(x)\n",
    "\n",
    "plt.figure(figsize=(10,7))\n",
    "sns.boxplot(x='IFUS', y='CVotesUS',data=movies)\n",
    "plt.show()"
   ]
  },
  {
   "cell_type": "markdown",
   "metadata": {},
   "source": [
    "**`Inferences:`** Write your two inferences/observations below:\n",
    "- Inference 1: The USA movies have outliers and also the number of Cvotes have a larger range.\n",
    "- Inference 2: The non-USA have a better scattered inter-quartile range when compared to USA movies. Also the highest range of votes is less than the USA"
   ]
  },
  {
   "cell_type": "code",
   "execution_count": 78,
   "metadata": {},
   "outputs": [
    {
     "data": {
      "image/png": "[encoded data removed]",
      "text/plain": [
       "<Figure size 720x504 with 1 Axes>"
      ]
     },
     "metadata": {
      "needs_background": "light"
     },
     "output_type": "display_data"
    }
   ],
   "source": [
    "# Box plot - 2: VotesUS(y) vs IFUS(x)\n",
    "\n",
    "plt.figure(figsize=(10,7))\n",
    "sns.boxplot(x='IFUS', y='VotesUS', data=movies)\n",
    "plt.show()"
   ]
  },
  {
   "cell_type": "markdown",
   "metadata": {},
   "source": [
    "**`Inferences:`** Write your two inferences/observations below:\n",
    "- Inference 1: The USA movies have a larger inter-quartile range, also there are outliers associated.\n",
    "- Inference 2: The non-USA have a shorter bandwidth of Votes when compared to USA. "
   ]
  },
  {
   "cell_type": "markdown",
   "metadata": {},
   "source": [
    "-  ###  Subtask 3.5:  Top 1000 Voters Vs Genres\n",
    "\n",
    "You might have also observed the column `CVotes1000`. This column represents the top 1000 voters on IMDb and gives the count for the number of these voters who have voted for a particular movie. Let's see how these top 1000 voters have voted across the genres. \n",
    "\n",
    "1. Sort the dataframe genre_top10 based on the value of `CVotes1000`in a descending order.\n",
    "\n",
    "2. Make a seaborn barplot for `genre` vs `CVotes1000`.\n",
    "\n",
    "3. Write your inferences. You can also try to relate it with the heatmaps you did in the previous subtasks.\n",
    "\n",
    "\n"
   ]
  },
  {
   "cell_type": "code",
   "execution_count": 79,
   "metadata": {},
   "outputs": [],
   "source": [
    "# Sorting by CVotes1000\n",
    "\n",
    "genre_top10.sort_values(by='CVotes1000', ascending=False,inplace=True)\n"
   ]
  },
  {
   "cell_type": "code",
   "execution_count": 80,
   "metadata": {},
   "outputs": [
    {
     "data": {
      "image/png": "[encoded data removed]",
      "text/plain": [
       "<Figure size 864x432 with 1 Axes>"
      ]
     },
     "metadata": {
      "needs_background": "light"
     },
     "output_type": "display_data"
    }
   ],
   "source": [
    "# Bar plot\n",
    "\n",
    "\n",
    "plt.figure(figsize=(12,6))\n",
    "sns.barplot(x=genre_top10.index,y='CVotes1000', data=genre_top10)\n",
    "plt.show()"
   ]
  },
  {
   "cell_type": "markdown",
   "metadata": {},
   "source": [
    "**`Inferences:`** Sci-Fi is the top voted genre by Cvotes1000 and the least is Romance"
   ]
  },
  {
   "cell_type": "markdown",
   "metadata": {},
   "source": [
    "**`Checkpoint 6:`** The genre `Romance` seems to be most unpopular among the top 1000 voters."
   ]
  },
  {
   "cell_type": "markdown",
   "metadata": {},
   "source": [
    "\n",
    "\n"
   ]
  },
  {
   "cell_type": "markdown",
   "metadata": {},
   "source": [
    "With the above subtask, your assignment is over. In your free time, do explore the dataset further on your own and see what kind of other insights you can get across various other columns."
   ]
  }
 ],
 "metadata": {
  "kernelspec": {
   "display_name": "Python 3",
   "language": "python",
   "name": "python3"
  },
  "language_info": {
   "codemirror_mode": {
    "name": "ipython",
    "version": 3
   },
   "file_extension": ".py",
   "mimetype": "text/x-python",
   "name": "python",
   "nbconvert_exporter": "python",
   "pygments_lexer": "ipython3",
   "version": "3.8.5"
  }
 },
 "nbformat": 4,
 "nbformat_minor": 2
}
